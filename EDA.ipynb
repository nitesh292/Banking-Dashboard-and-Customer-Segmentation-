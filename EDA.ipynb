{
 "cells": [
  {
   "cell_type": "code",
   "execution_count": null,
   "id": "51a520c6-587c-469d-9ce1-f58ebd58179a",
   "metadata": {},
   "outputs": [],
   "source": [
    "# pip install mysql-connector-python\n",
    "!pip install mysql\n",
    "!pip install SQLAlchemy"
   ]
  },
  {
   "cell_type": "code",
   "execution_count": null,
   "id": "d8c6f03b-8462-4856-916e-8093be2e0af6",
   "metadata": {},
   "outputs": [],
   "source": [
    "# Importing necessary libraries for data analysis\n",
    "import mysql.connector\n",
    "import pymysql\n",
    "import pandas as pd\n",
    "import numpy as np\n",
    "from sqlalchemy import create_engine\n",
    "import seaborn as sns\n",
    "import matplotlib.pyplot as plt"
   ]
  },
  {
   "cell_type": "code",
   "execution_count": null,
   "id": "82f49ab6-d90b-4a29-a1cb-e0b30983d7d0",
   "metadata": {},
   "outputs": [],
   "source": [
    "# Importing the data from mysql database\n",
    "username = \"root\"\n",
    "password = \"qwerasdf#A1\"\n",
    "host = \"localhost\"\n",
    "port = 3306\n",
    "database = \"banking\"\n",
    "\n",
    "# Create the connection string\n",
    "connection_string = f\"mysql+pymysql://{username}:{password}@{host}:{port}/{database}\"\n",
    "engine = create_engine(connection_string)\n",
    "\n",
    "# Test with a simple query\n",
    "query = \"SELECT * from banking.customer\"\n",
    "df = pd.read_sql(query, engine)\n",
    "\n",
    "engine.dispose()"
   ]
  },
  {
   "cell_type": "code",
   "execution_count": null,
   "id": "5e746eae-b695-40e6-876c-58d51614d4a9",
   "metadata": {},
   "outputs": [],
   "source": [
    "df.head()"
   ]
  },
  {
   "cell_type": "code",
   "execution_count": null,
   "id": "26fa9e71-19fc-4e90-88b8-8ba45f6d08de",
   "metadata": {},
   "outputs": [],
   "source": [
    "df.shape"
   ]
  },
  {
   "cell_type": "code",
   "execution_count": null,
   "id": "90ccaa07-c377-47ac-b51b-31dd24a3bb8c",
   "metadata": {},
   "outputs": [],
   "source": [
    "df.info()"
   ]
  },
  {
   "cell_type": "code",
   "execution_count": null,
   "id": "33c59bf2-05ad-4d68-a9b9-6c811ce2e263",
   "metadata": {},
   "outputs": [],
   "source": [
    "df.describe()"
   ]
  },
  {
   "cell_type": "markdown",
   "id": "929bc5e2-03b2-4268-b300-fbcc59daffd4",
   "metadata": {},
   "source": [
    "## Checking for null values"
   ]
  },
  {
   "cell_type": "code",
   "execution_count": null,
   "id": "f850533a-714d-41a1-90ab-a9cc5f624f78",
   "metadata": {},
   "outputs": [],
   "source": [
    "df.isnull().sum()"
   ]
  },
  {
   "cell_type": "markdown",
   "id": "e3a0b344-934d-465c-b76d-c45834647d33",
   "metadata": {},
   "source": [
    "## Duplicates"
   ]
  },
  {
   "cell_type": "code",
   "execution_count": null,
   "id": "b10a322e-c4e7-44a7-9f8c-459eeb35174e",
   "metadata": {},
   "outputs": [],
   "source": [
    "# Check for duplicate rows in the dataset\n",
    "df.duplicated().sum()\n",
    "df=df.drop_duplicates()"
   ]
  },
  {
   "cell_type": "code",
   "execution_count": null,
   "id": "7f53b263-5b53-4f12-a0be-66f15787fb8d",
   "metadata": {},
   "outputs": [],
   "source": [
    "sns.histplot(x=df['Age'],bins=20)\n",
    "sns.boxplot(x=df['Estimated_Income'])"
   ]
  },
  {
   "cell_type": "code",
   "execution_count": null,
   "id": "0dc0d0cc-2d55-4bf4-9840-92b4ee075012",
   "metadata": {},
   "outputs": [],
   "source": []
  },
  {
   "cell_type": "code",
   "execution_count": null,
   "id": "d672b968-09b9-41fa-8aed-1cb18f6fbe71",
   "metadata": {},
   "outputs": [],
   "source": [
    "labels = ['Low','Medium','High']\n",
    "inc = pd.cut(df['Estimated_Income'], bins =3,labels = labels)\n",
    "inc_bins = inc.value_counts()"
   ]
  },
  {
   "cell_type": "code",
   "execution_count": null,
   "id": "e21a8751-bcc5-426d-a93d-5fd614894f2c",
   "metadata": {},
   "outputs": [],
   "source": [
    "inc_bins.plot(kind= 'bar')"
   ]
  },
  {
   "cell_type": "markdown",
   "id": "f2074187-6cc8-4f00-9cb6-cd6babb2ed95",
   "metadata": {},
   "source": [
    "## Examine the categorical Columns"
   ]
  },
  {
   "cell_type": "code",
   "execution_count": null,
   "id": "e7bb4ef3-9cf7-49a6-84c7-5409fe51cc49",
   "metadata": {},
   "outputs": [],
   "source": [
    "categorical_columns = ['Nationality','Loyalty_Classification', 'Amount_of_Credit_Cards','Risk_Weighting', 'BRId', 'GenderId', 'IAId']"
   ]
  },
  {
   "cell_type": "code",
   "execution_count": null,
   "id": "82af29fb-d26c-412b-ac53-58bd2bba402f",
   "metadata": {},
   "outputs": [],
   "source": [
    "# Data visualization\n",
    "for i, column in enumerate(df[categorical_columns]):\n",
    "    plt.figure(i,figsize =(7,3))\n",
    "    ax =sns.countplot(data = df,x=column)\n",
    "    ax.bar_label(ax.containers[0], padding=0,label_type ='center')"
   ]
  },
  {
   "cell_type": "code",
   "execution_count": null,
   "id": "d56687f0-3b05-4017-b705-d713d0276e6b",
   "metadata": {},
   "outputs": [],
   "source": [
    "numerical_columns =['Estimated_Income', 'Superannuation_Savings','Credit_Card_Balance', 'Bank_Loans',\n",
    "       'Bank_Deposits', 'Checking_Accounts', 'Saving_Accounts',\n",
    "       'Foreign_Currency_Account', 'Business_Lending','Properties_Owned']"
   ]
  },
  {
   "cell_type": "markdown",
   "id": "916b17ac-50c7-4d9b-bf8c-518501aef1cc",
   "metadata": {},
   "source": [
    "## Single variable Analysis"
   ]
  },
  {
   "cell_type": "code",
   "execution_count": null,
   "id": "4a03cd37-3a9d-4fb1-bdfe-53a90ab3b28d",
   "metadata": {},
   "outputs": [],
   "source": [
    "# Data visualization\n",
    "plt.figure(figsize=(20,20))\n",
    "for i, p in enumerate(numerical_columns):\n",
    "    \n",
    "    plt.subplot(4,3,i+1)\n",
    "    sns.histplot(data=df,x=p, bins=30,kde = True)\n"
   ]
  },
  {
   "cell_type": "markdown",
   "id": "95e7f28a-0871-4ae9-bef6-46ad8b8d1583",
   "metadata": {},
   "source": [
    "## Bivarient Anlaysis"
   ]
  },
  {
   "cell_type": "code",
   "execution_count": null,
   "id": "9f1190f1-1828-4f3c-9ab5-ea8c603a1119",
   "metadata": {},
   "outputs": [],
   "source": [
    "plt.figure(figsize =(20,20))\n",
    "for i, column in enumerate(df[categorical_columns]):\n",
    "    plt.subplot(4,2,i+1)\n",
    "    sns.countplot(data = df,x=column,hue = 'Nationality')\n"
   ]
  },
  {
   "cell_type": "markdown",
   "id": "4695ce20-097f-4229-bb3d-e35e74731085",
   "metadata": {},
   "source": [
    "## Corelation "
   ]
  },
  {
   "cell_type": "code",
   "execution_count": null,
   "id": "32a90c34-c167-4a69-b955-839edc47c163",
   "metadata": {},
   "outputs": [],
   "source": [
    "corelation_matrix = df[numerical_columns].corr()\n",
    "plt.figure(figsize=(8,8))\n",
    "sns.heatmap(corelation_matrix,annot= True, cmap ='crest')\n",
    "plt.title(label ='Relationship Between Numerical Variables')\n",
    "plt.show()"
   ]
  },
  {
   "cell_type": "code",
   "execution_count": null,
   "id": "f788c76e-7f93-4c92-8d94-8da2a55c894d",
   "metadata": {},
   "outputs": [],
   "source": []
  }
 ],
 "metadata": {
  "kernelspec": {
   "display_name": "Python 3 (ipykernel)",
   "language": "python",
   "name": "python3"
  },
  "language_info": {
   "codemirror_mode": {
    "name": "ipython",
    "version": 3
   },
   "file_extension": ".py",
   "mimetype": "text/x-python",
   "name": "python",
   "nbconvert_exporter": "python",
   "pygments_lexer": "ipython3",
   "version": "3.12.4"
  }
 },
 "nbformat": 4,
 "nbformat_minor": 5
}
